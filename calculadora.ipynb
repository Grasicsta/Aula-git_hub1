{
  "nbformat": 4,
  "nbformat_minor": 0,
  "metadata": {
    "colab": {
      "provenance": [],
      "authorship_tag": "ABX9TyM9v0OCnK34weTjvuV66Rcy",
      "include_colab_link": true
    },
    "kernelspec": {
      "name": "python3",
      "display_name": "Python 3"
    },
    "language_info": {
      "name": "python"
    }
  },
  "cells": [
    {
      "cell_type": "markdown",
      "metadata": {
        "id": "view-in-github",
        "colab_type": "text"
      },
      "source": [
        "<a href=\"https://colab.research.google.com/github/Grasicsta/Aula-git_hub1/blob/main/calculadora.ipynb\" target=\"_parent\"><img src=\"https://colab.research.google.com/assets/colab-badge.svg\" alt=\"Open In Colab\"/></a>"
      ]
    },
    {
      "cell_type": "markdown",
      "source": [
        "input -> para o usuario inserir dados\n",
        "escolher a operação -> if.. elif.. else\n",
        "idealmente com função-> def\n",
        "tipo de dados dos números:floot\n",
        "lembrando que: para realizar operações de divisão, o divisor não pode ser zero."
      ],
      "metadata": {
        "id": "QYXY-g8TrN1p"
      }
    },
    {
      "cell_type": "code",
      "execution_count": 3,
      "metadata": {
        "id": "KMsQtPHUq7Lo",
        "colab": {
          "base_uri": "https://localhost:8080/"
        },
        "outputId": "288ee6e2-26db-4b07-c43a-04e5628a5ae5"
      },
      "outputs": [
        {
          "output_type": "stream",
          "name": "stdout",
          "text": [
            "Digite o primeiro número4\n",
            "Digite o segundo número3\n",
            "Escolha a operação: +, -, *, /2\n",
            "Operação inválida\n"
          ]
        }
      ],
      "source": [
        "def calculadora():\n",
        "  num1 = float(input(\"Digite o primeiro número\"));\n",
        "  num2 = float(input(\"Digite o segundo número\"));\n",
        "  operacao = input(\"Escolha a operação: +, -, *, /\");\n",
        "\n",
        "  if(operacao == \"+\"):\n",
        "   soma = num1 + num2 ;\n",
        "   print(soma);\n",
        "  elif (operacao == \"-\"):\n",
        "    sub = num1 - num2;\n",
        "    print(sub);\n",
        "  if(operacao == \"*\"):\n",
        "    sub = num1 * num2;\n",
        "    print(sub);\n",
        "  elif(operacao == \"/\"):\n",
        "    if(num2 != 0):\n",
        "     sub = num1 / num2;\n",
        "     print(sub);\n",
        "    else:\n",
        "       print(\"Digitar número diferente de zero\")\n",
        "       return calculadora()\n",
        "  else: print(\"Operação inválida\")\n",
        "\n",
        "\n",
        "\n",
        "\n",
        "\n",
        "calculadora()"
      ]
    }
  ]
}